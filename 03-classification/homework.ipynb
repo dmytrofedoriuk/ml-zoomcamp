{
 "cells": [
  {
   "cell_type": "code",
   "execution_count": 1,
   "id": "8302625d-2aff-4964-b369-1f8c7e827d23",
   "metadata": {},
   "outputs": [],
   "source": [
    "import numpy as np\n",
    "import pandas as pd\n",
    "\n",
    "from sklearn.metrics import mutual_info_score\n",
    "from sklearn.preprocessing import OneHotEncoder\n",
    "from sklearn.linear_model import LogisticRegression\n",
    "from sklearn.model_selection import train_test_split\n",
    "from sklearn.feature_extraction import DictVectorizer"
   ]
  },
  {
   "cell_type": "code",
   "execution_count": 1,
   "id": "69069f64-19f3-48ea-8892-ad0cbd7221ba",
   "metadata": {},
   "outputs": [
    {
     "name": "stdout",
     "output_type": "stream",
     "text": [
      "--2025-10-16 15:39:28--  https://raw.githubusercontent.com/alexeygrigorev/datasets/master/course_lead_scoring.csv\n",
      "Resolving raw.githubusercontent.com (raw.githubusercontent.com)... 185.199.111.133, 185.199.108.133, 185.199.109.133, ...\n",
      "Connecting to raw.githubusercontent.com (raw.githubusercontent.com)|185.199.111.133|:443... connected.\n",
      "HTTP request sent, awaiting response... 200 OK\n",
      "Length: 80876 (79K) [text/plain]\n",
      "Saving to: ‘course_lead_scoring.csv’\n",
      "\n",
      "course_lead_scoring 100%[===================>]  78.98K  --.-KB/s    in 0.006s  \n",
      "\n",
      "2025-10-16 15:39:28 (13.6 MB/s) - ‘course_lead_scoring.csv’ saved [80876/80876]\n",
      "\n"
     ]
    }
   ],
   "source": [
    "!wget https://raw.githubusercontent.com/alexeygrigorev/datasets/master/course_lead_scoring.csv"
   ]
  },
  {
   "cell_type": "code",
   "execution_count": 2,
   "id": "2cef0b87-1aa0-446e-b9ed-ddca3390f38b",
   "metadata": {},
   "outputs": [],
   "source": [
    "df = pd.read_csv(\"course_lead_scoring.csv\")"
   ]
  },
  {
   "cell_type": "markdown",
   "id": "c0c6f2aa-192e-4587-b055-b437b8e220bc",
   "metadata": {},
   "source": [
    "## Data preparation"
   ]
  },
  {
   "cell_type": "code",
   "execution_count": 3,
   "id": "fc9e39e6-256c-44ab-8313-92b3cffd67b4",
   "metadata": {},
   "outputs": [
    {
     "name": "stdout",
     "output_type": "stream",
     "text": [
      "<class 'pandas.core.frame.DataFrame'>\n",
      "RangeIndex: 1462 entries, 0 to 1461\n",
      "Data columns (total 9 columns):\n",
      " #   Column                    Non-Null Count  Dtype  \n",
      "---  ------                    --------------  -----  \n",
      " 0   lead_source               1334 non-null   object \n",
      " 1   industry                  1328 non-null   object \n",
      " 2   number_of_courses_viewed  1462 non-null   int64  \n",
      " 3   annual_income             1281 non-null   float64\n",
      " 4   employment_status         1362 non-null   object \n",
      " 5   location                  1399 non-null   object \n",
      " 6   interaction_count         1462 non-null   int64  \n",
      " 7   lead_score                1462 non-null   float64\n",
      " 8   converted                 1462 non-null   int64  \n",
      "dtypes: float64(2), int64(3), object(4)\n",
      "memory usage: 102.9+ KB\n"
     ]
    }
   ],
   "source": [
    "df.info()"
   ]
  },
  {
   "cell_type": "code",
   "execution_count": 4,
   "id": "cf3d9a5e-d2d9-4c87-ad5b-039776e13042",
   "metadata": {},
   "outputs": [
    {
     "data": {
      "text/plain": [
       "True"
      ]
     },
     "execution_count": 4,
     "metadata": {},
     "output_type": "execute_result"
    }
   ],
   "source": [
    "num_cols = df.select_dtypes(include=['number']).columns.to_list()\n",
    "cat_cols = df.select_dtypes(exclude=['number']).columns.to_list()\n",
    "len(num_cols) + len(cat_cols) == len(df.columns)"
   ]
  },
  {
   "cell_type": "code",
   "execution_count": 5,
   "id": "adaf5cb2-1b4e-44d1-a87c-857124833583",
   "metadata": {},
   "outputs": [
    {
     "data": {
      "text/plain": [
       "lead_source                 128\n",
       "industry                    134\n",
       "number_of_courses_viewed      0\n",
       "annual_income               181\n",
       "employment_status           100\n",
       "location                     63\n",
       "interaction_count             0\n",
       "lead_score                    0\n",
       "converted                     0\n",
       "dtype: int64"
      ]
     },
     "execution_count": 5,
     "metadata": {},
     "output_type": "execute_result"
    }
   ],
   "source": [
    "df.isnull().sum()"
   ]
  },
  {
   "cell_type": "code",
   "execution_count": 6,
   "id": "9aa18b30-f072-4a30-a2c2-9a722fefa29e",
   "metadata": {},
   "outputs": [],
   "source": [
    "df[num_cols] = df[num_cols].fillna(0)\n",
    "df[cat_cols] = df[cat_cols].fillna('NA')"
   ]
  },
  {
   "cell_type": "markdown",
   "id": "2e8ffd3b-2f57-440a-a875-573f38bc09da",
   "metadata": {},
   "source": [
    "## Question 1"
   ]
  },
  {
   "cell_type": "code",
   "execution_count": 7,
   "id": "09885606-fb7b-42dd-a673-f6fae0b002cd",
   "metadata": {},
   "outputs": [
    {
     "name": "stdout",
     "output_type": "stream",
     "text": [
      "Answer to Q1 is: retail\n"
     ]
    }
   ],
   "source": [
    "print(f\"Answer to Q1 is: {df.industry.mode()[0]}\")"
   ]
  },
  {
   "cell_type": "markdown",
   "id": "72c8c9e1-2b6b-4b69-8c7a-7d313cbd2938",
   "metadata": {},
   "source": [
    "## Question 2"
   ]
  },
  {
   "cell_type": "code",
   "execution_count": 8,
   "id": "9bfa5b86-4d18-4b1f-9f60-8bd14ec604d3",
   "metadata": {},
   "outputs": [
    {
     "name": "stdout",
     "output_type": "stream",
     "text": [
      "Answer to Q2 is: annual_income and interaction_count\n"
     ]
    }
   ],
   "source": [
    "corr = df[num_cols].corr()\n",
    "\n",
    "mask = np.tril(np.ones_like(corr, dtype=bool))\n",
    "corr_upper = corr.mask(mask)\n",
    "\n",
    "corr_df = (\n",
    "    corr_upper\n",
    "    .stack()\n",
    "    .reset_index()\n",
    "    .rename(columns={\"level_0\": \"feature_1\", \"level_1\": \"feature_2\", 0: \"correlation\"})\n",
    ")\n",
    "\n",
    "pairs = [\n",
    "    (\"interaction_count\", \"lead_score\"),\n",
    "    (\"number_of_courses_viewed\", \"lead_score\"),\n",
    "    (\"number_of_courses_viewed\", \"interaction_count\"),\n",
    "    (\"annual_income\", \"interaction_count\"),\n",
    "]\n",
    "\n",
    "corr_filtered = corr_df[\n",
    "    corr_df.apply(\n",
    "        lambda row: (row[\"feature_1\"], row[\"feature_2\"]) in pairs\n",
    "        or (row[\"feature_2\"], row[\"feature_1\"]) in pairs,\n",
    "        axis=1\n",
    "    )\n",
    "].reset_index(drop=True)\n",
    "\n",
    "corr_filtered['correlation'] = corr_filtered['correlation'].abs() \n",
    "corr_max = corr_filtered[corr_filtered['correlation'] == corr_filtered['correlation'].max()]\n",
    "\n",
    "print(f\"Answer to Q2 is: {corr_max.feature_1.iloc[0]} and {corr_max.feature_2.iloc[0]}\")"
   ]
  },
  {
   "cell_type": "markdown",
   "id": "66f406a9-d21a-47f1-b5c6-6df8825fc11e",
   "metadata": {},
   "source": [
    "## Split the data"
   ]
  },
  {
   "cell_type": "code",
   "execution_count": 9,
   "id": "1efefeda-cd31-4e2d-918b-91cda451a0a5",
   "metadata": {},
   "outputs": [],
   "source": [
    "df_full_train, X_test = train_test_split(df, test_size=0.2, random_state=42)\n",
    "X_train, X_val = train_test_split(df_full_train, test_size=0.25, random_state=42)\n",
    "\n",
    "for d in (X_train, X_val, X_test):\n",
    "    d.reset_index(drop=True, inplace=True)\n",
    "\n",
    "y_train = X_train.pop('converted').values\n",
    "y_val = X_val.pop('converted').values\n",
    "y_test = X_test.pop('converted').values"
   ]
  },
  {
   "cell_type": "markdown",
   "id": "4bde114a-9eae-47bd-b92e-fa618c22542b",
   "metadata": {},
   "source": [
    "## Question 3"
   ]
  },
  {
   "cell_type": "code",
   "execution_count": 10,
   "id": "0f71d4e1-517b-4bff-a7ca-9a089a7d57c4",
   "metadata": {},
   "outputs": [
    {
     "name": "stdout",
     "output_type": "stream",
     "text": [
      "Answer to Q3 is: lead_source\n"
     ]
    }
   ],
   "source": [
    "mi = X_train[cat_cols].apply(lambda x: mutual_info_score(x, y_train))\n",
    "mi = mi.sort_values(ascending=False)\n",
    "print(f\"Answer to Q3 is: {mi.idxmax()}\")"
   ]
  },
  {
   "cell_type": "markdown",
   "id": "a5f456ba-b800-4c96-bf2b-f7bbb26c6cfc",
   "metadata": {},
   "source": [
    "## Question 4"
   ]
  },
  {
   "cell_type": "code",
   "execution_count": 11,
   "id": "393ecd2b-5cab-4d91-926d-f56d3260396c",
   "metadata": {},
   "outputs": [],
   "source": [
    "num_cols.remove('converted')"
   ]
  },
  {
   "cell_type": "code",
   "execution_count": 43,
   "id": "c977e8f0-973e-4599-b113-0deeb043a704",
   "metadata": {},
   "outputs": [],
   "source": [
    "features_list = cat_cols + num_cols"
   ]
  },
  {
   "cell_type": "code",
   "execution_count": 77,
   "id": "6791d5ff-1fcd-44db-868d-2caad68e93e0",
   "metadata": {},
   "outputs": [],
   "source": [
    "def train_and_eval(X_train, X_val, y_train, y_val, features_list, C=1.0):\n",
    "    dv = DictVectorizer(sparse=False)\n",
    "\n",
    "    train_dict = X_train[features_list].to_dict(orient='records')\n",
    "    X_train = dv.fit_transform(train_dict)\n",
    "\n",
    "    val_dict = X_val[features_list].to_dict(orient='records')\n",
    "    X_val = dv.transform(val_dict)\n",
    "\n",
    "    model = LogisticRegression(solver='liblinear', C=C, max_iter=1000, random_state=42)\n",
    "    model.fit(X_train, y_train)\n",
    "\n",
    "    y_pred = model.predict_proba(X_val)[:, 1]\n",
    "    churn_decision = (y_pred >= 0.5)\n",
    "    accuracy = (y_val == churn_decision).mean()\n",
    "    return accuracy\n"
   ]
  },
  {
   "cell_type": "code",
   "execution_count": 79,
   "id": "1c81c083-3387-4d50-849d-84b5b2bfe09e",
   "metadata": {},
   "outputs": [
    {
     "name": "stdout",
     "output_type": "stream",
     "text": [
      "Answer to Q4 is: 0.7\n"
     ]
    }
   ],
   "source": [
    "base_accuracy = train_and_eval(X_train, X_val, y_train, y_val, features_list)\n",
    "print(f\"Answer to Q4 is: {round(base_accuracy, 2)}\")"
   ]
  },
  {
   "cell_type": "markdown",
   "id": "57d3ba8d-7b50-4412-ad02-5dff556137d0",
   "metadata": {},
   "source": [
    "## Question 5"
   ]
  },
  {
   "cell_type": "code",
   "execution_count": 80,
   "id": "e76c9e5d-1cef-46c7-8dcb-fa8123c8ff75",
   "metadata": {},
   "outputs": [
    {
     "name": "stdout",
     "output_type": "stream",
     "text": [
      "Answer to Q5 is: lead_score\n"
     ]
    }
   ],
   "source": [
    "results = {}\n",
    "\n",
    "for feature in features_list:\n",
    "    X_train_subset = X_train.drop(columns=[feature])\n",
    "    X_val_subset = X_val.drop(columns=[feature])\n",
    "\n",
    "    features_subset = [f for f in features_list if f != feature]\n",
    "\n",
    "    acc = train_and_eval(X_train_subset, X_val_subset, y_train, y_val, features_subset)\n",
    "    results[feature] = float(acc)\n",
    "\n",
    "subset_keys = ['industry', 'employment_status', 'lead_score']\n",
    "\n",
    "best_feature, best_value = max(\n",
    "    ((k, abs(results[k] - base_accuracy)) for k in subset_keys if k in results),\n",
    "    key=lambda x: x[1]\n",
    ")\n",
    "\n",
    "print(f\"Answer to Q5 is: {best_feature}\")"
   ]
  },
  {
   "cell_type": "markdown",
   "id": "ec74c8a1-13c3-448f-a3d0-19b00011c7bb",
   "metadata": {},
   "source": [
    "## Question 6"
   ]
  },
  {
   "cell_type": "code",
   "execution_count": 86,
   "id": "b3200f04-6648-45a5-88a1-774d7fdab894",
   "metadata": {},
   "outputs": [
    {
     "name": "stdout",
     "output_type": "stream",
     "text": [
      "Answer to Q6 is: 0.01\n"
     ]
    }
   ],
   "source": [
    "C_values = [0.01, 0.1, 1, 10, 100]\n",
    "results = {}\n",
    "\n",
    "for C in C_values:\n",
    "    acc = train_and_eval(X_train, X_val, y_train, y_val, features_list, C=C)\n",
    "    results[C] = round(acc, 3)\n",
    "\n",
    "best_C = min(\n",
    "    [C for C, acc in results.items() if acc == max(results.values())]\n",
    ")\n",
    "\n",
    "print(f\"Answer to Q6 is: {best_C}\")"
   ]
  }
 ],
 "metadata": {
  "kernelspec": {
   "display_name": "ml-zoomcamp",
   "language": "python",
   "name": "ml-zoomcamp"
  },
  "language_info": {
   "codemirror_mode": {
    "name": "ipython",
    "version": 3
   },
   "file_extension": ".py",
   "mimetype": "text/x-python",
   "name": "python",
   "nbconvert_exporter": "python",
   "pygments_lexer": "ipython3",
   "version": "3.11.13"
  }
 },
 "nbformat": 4,
 "nbformat_minor": 5
}
