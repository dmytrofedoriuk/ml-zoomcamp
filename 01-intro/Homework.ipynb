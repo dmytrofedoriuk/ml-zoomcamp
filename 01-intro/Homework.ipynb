{
 "cells": [
  {
   "cell_type": "markdown",
   "id": "8632d306-4257-494a-a633-c6b27892181b",
   "metadata": {},
   "source": [
    "## Q1. Pandas version"
   ]
  },
  {
   "cell_type": "code",
   "execution_count": 73,
   "id": "357ebc22-532a-49ce-b1a5-40887011630d",
   "metadata": {},
   "outputs": [
    {
     "data": {
      "text/plain": [
       "'2.3.2'"
      ]
     },
     "execution_count": 73,
     "metadata": {},
     "output_type": "execute_result"
    }
   ],
   "source": [
    "import numpy as np\n",
    "import pandas as pd\n",
    "pd.__version__"
   ]
  },
  {
   "cell_type": "markdown",
   "id": "2c6965a3-357d-4e95-b2ef-e1ed22efc8d3",
   "metadata": {},
   "source": [
    "## Q2. Records count"
   ]
  },
  {
   "cell_type": "code",
   "execution_count": 3,
   "id": "a0aa9e55-671d-455a-984c-82b1b22d592f",
   "metadata": {},
   "outputs": [],
   "source": [
    "df = pd.read_csv('../data/car_fuel_efficiency.csv')"
   ]
  },
  {
   "cell_type": "code",
   "execution_count": 19,
   "id": "25a05596-b87d-4215-af69-63055cf0360b",
   "metadata": {},
   "outputs": [
    {
     "name": "stdout",
     "output_type": "stream",
     "text": [
      "Answer to Q2: 9704\n"
     ]
    }
   ],
   "source": [
    "print(f\"Answer to Q2: {df.shape[0]}\")"
   ]
  },
  {
   "cell_type": "markdown",
   "id": "b619c139-bb73-481a-862c-de23d3e471b3",
   "metadata": {},
   "source": [
    "## Q3 Fuel types"
   ]
  },
  {
   "cell_type": "code",
   "execution_count": 20,
   "id": "1243b7f1-66fe-476b-b00f-dbc2d8fd1d3b",
   "metadata": {},
   "outputs": [
    {
     "name": "stdout",
     "output_type": "stream",
     "text": [
      "Answer to Q3: 2\n"
     ]
    }
   ],
   "source": [
    "print(f\"Answer to Q3: {df.fuel_type.nunique()}\")"
   ]
  },
  {
   "cell_type": "markdown",
   "id": "5bacf99c-52e3-4ee4-bc6f-b20978d1ecaa",
   "metadata": {},
   "source": [
    "## Q4. Missing values"
   ]
  },
  {
   "cell_type": "code",
   "execution_count": 21,
   "id": "35b75e3f-5d88-4847-8e0b-a7679a80023c",
   "metadata": {},
   "outputs": [
    {
     "name": "stdout",
     "output_type": "stream",
     "text": [
      "Answer to Q4: 4\n"
     ]
    }
   ],
   "source": [
    "print(f\"Answer to Q4: {sum(df.isnull().sum() > 0)}\")"
   ]
  },
  {
   "cell_type": "markdown",
   "id": "aa014d42-96ec-42db-932c-03fe2fe06ddf",
   "metadata": {},
   "source": [
    "## Q5. Max fuel efficiency"
   ]
  },
  {
   "cell_type": "code",
   "execution_count": 26,
   "id": "89be02e5-4ab9-461f-aaa6-be16d19c7648",
   "metadata": {},
   "outputs": [
    {
     "name": "stdout",
     "output_type": "stream",
     "text": [
      "Answer to Q5: 23.76\n"
     ]
    }
   ],
   "source": [
    "print(f\"Answer to Q5: {df[df.origin == 'Asia']['fuel_efficiency_mpg'].max():.2f}\")"
   ]
  },
  {
   "cell_type": "markdown",
   "id": "b038879b-86e0-4774-bad5-84b9868a6241",
   "metadata": {},
   "source": [
    "## Q6. Median value of horsepower"
   ]
  },
  {
   "cell_type": "code",
   "execution_count": 57,
   "id": "ccd96bb7-d418-4638-8c35-f8557349e758",
   "metadata": {},
   "outputs": [],
   "source": [
    "horsepower_median = int(df.horsepower.median())\n",
    "horsepower_mode = int(df.horsepower.mode().iloc[0])\n",
    "horswepower_filled = df.horsepower.fillna(value=mode_horsepower)\n",
    "horsepower_filled_median = int(filled_horswepower.median())"
   ]
  },
  {
   "cell_type": "code",
   "execution_count": 59,
   "id": "2c8d162c-0183-4b31-8f6e-bd22f587bb15",
   "metadata": {},
   "outputs": [
    {
     "name": "stdout",
     "output_type": "stream",
     "text": [
      "Answer to Q6: Yes, it increased\n"
     ]
    }
   ],
   "source": [
    "if horsepower_median < horsepower_filled_median:\n",
    "    print(f\"Answer to Q6: Yes, it increased\")\n",
    "elif horsepower_median > horsepower_filled_median:\n",
    "    print(f\"Answer to Q6: Yes, it decreased\")\n",
    "else:\n",
    "    print(f\"No\")"
   ]
  },
  {
   "cell_type": "markdown",
   "id": "43bf9844-50a0-4bdb-aa77-60087dd4499a",
   "metadata": {},
   "source": [
    "## Q7. Sum of weights"
   ]
  },
  {
   "cell_type": "code",
   "execution_count": 119,
   "id": "75430e08-871a-4517-ba56-ed1febd75ea2",
   "metadata": {},
   "outputs": [],
   "source": [
    "X = (\n",
    "    df[df.origin == 'Asia']\n",
    "        [['vehicle_weight', 'model_year']]\n",
    "        .head(7)\n",
    ").to_numpy()\n",
    "\n",
    "y = np.array([1100, 1300, 800, 900, 1000, 1100, 1200])"
   ]
  },
  {
   "cell_type": "code",
   "execution_count": 125,
   "id": "2df737c4-cf56-4f89-aa47-ce1d75ebc81e",
   "metadata": {},
   "outputs": [
    {
     "name": "stdout",
     "output_type": "stream",
     "text": [
      "Answer to Q7: 0.52\n"
     ]
    }
   ],
   "source": [
    "XTX = X.T.dot(X)\n",
    "XTX_inv = np.linalg.inv(XTX)\n",
    "w = XTX_inv.dot(X.T).dot(y)\n",
    "print(f\"Answer to Q7: {w.sum():.2f}\")"
   ]
  }
 ],
 "metadata": {
  "kernelspec": {
   "display_name": "ml-zoomcamp",
   "language": "python",
   "name": "ml-zoomcamp"
  },
  "language_info": {
   "codemirror_mode": {
    "name": "ipython",
    "version": 3
   },
   "file_extension": ".py",
   "mimetype": "text/x-python",
   "name": "python",
   "nbconvert_exporter": "python",
   "pygments_lexer": "ipython3",
   "version": "3.11.13"
  }
 },
 "nbformat": 4,
 "nbformat_minor": 5
}
