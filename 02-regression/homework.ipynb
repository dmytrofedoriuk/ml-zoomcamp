{
 "cells": [
  {
   "cell_type": "code",
   "execution_count": 1,
   "id": "e5bd1ec7-fd03-4b08-8671-de04aa0d0b56",
   "metadata": {},
   "outputs": [],
   "source": [
    "import numpy as np\n",
    "import pandas as pd"
   ]
  },
  {
   "cell_type": "code",
   "execution_count": 2,
   "id": "3f0cf6eb-8780-4430-9765-9eaea768960f",
   "metadata": {},
   "outputs": [],
   "source": [
    "np.random.seed(42)"
   ]
  },
  {
   "cell_type": "markdown",
   "id": "3c4aa4ad-5429-4d19-bc7b-f661b8287d59",
   "metadata": {},
   "source": [
    "## Utils"
   ]
  },
  {
   "cell_type": "code",
   "execution_count": 3,
   "id": "8123944e-5169-4a9c-bc6c-5987e33c7302",
   "metadata": {},
   "outputs": [],
   "source": [
    "def split_dataset(df, val_ratio, test_ratio):\n",
    "    df_index_shuffled = df.reset_index()['index'].values\n",
    "    np.random.shuffle(df_index_shuffled)\n",
    "    \n",
    "    n = len(df)\n",
    "    n_val = int(n * val_ratio)\n",
    "    n_test = int(n * test_ratio)\n",
    "    n_train = n - n_val - n_test\n",
    "\n",
    "    train_idx = df_index_shuffled[:n_train]\n",
    "    val_idx = df_index_shuffled[n_train:n_train+n_val]\n",
    "    test_idx = df_index_shuffled[n_train+n_val:]\n",
    "    \n",
    "    train_df = df.iloc[train_idx].reset_index(drop=True)\n",
    "    val_df = df.iloc[test_idx].reset_index(drop=True)\n",
    "    test_df = df.iloc[val_idx].reset_index(drop=True)\n",
    "    return train_df, val_df, test_df\n",
    "\n",
    "\n",
    "def train_linear_regression(X, y, alpha=0):\n",
    "    ones = np.ones(X.shape[0])\n",
    "    X = np.column_stack([ones, X])\n",
    "\n",
    "    XTX = X.T.dot(X)\n",
    "    XTX_regularized = XTX + (alpha * np.eye(XTX.shape[0]))\n",
    "    XTX_inv = np.linalg.inv(XTX_regularized)\n",
    "    w = XTX_inv.dot(X.T).dot(y)\n",
    "    \n",
    "    return w\n",
    "\n",
    "\n",
    "def rmse(y_pred, y_actual):\n",
    "    return float(np.sqrt(np.mean((y_pred - y_actual) ** 2)))\n",
    "\n",
    "\n",
    "def evaluate_model(w, X_val, y_val):\n",
    "    ones = np.ones(X_val.shape[0])\n",
    "    X_val = np.column_stack([ones, X_val])\n",
    "    y_pred = w.dot(X_val.T)\n",
    "\n",
    "    score = rmse(y_pred, y_val)\n",
    "    return score\n",
    "\n",
    "def impute_by_mean(df, train_df, missing_col_name):\n",
    "    to_impute_df = df.copy()\n",
    "    mean_missing_col = np.mean(train_df[missing_col_name])\n",
    "    to_impute_df[missing_col_name] = to_impute_df[missing_col_name].fillna(mean_missing_col)\n",
    "    return to_impute_df\n",
    "\n",
    "def impute_by_zeros(df, missing_col_name):\n",
    "    to_impute_df = df.copy()\n",
    "    to_impute_df[missing_col_name] = to_impute_df[missing_col_name].fillna(0)\n",
    "    return to_impute_df"
   ]
  },
  {
   "cell_type": "markdown",
   "id": "e6995094-14b2-4781-923e-9871b483e47e",
   "metadata": {},
   "source": [
    "## Data Acquisition"
   ]
  },
  {
   "cell_type": "code",
   "execution_count": 4,
   "id": "d6a5528b-c64f-4263-b50a-9d90096a3673",
   "metadata": {},
   "outputs": [
    {
     "name": "stdout",
     "output_type": "stream",
     "text": [
      "--2025-10-08 22:44:33--  https://raw.githubusercontent.com/alexeygrigorev/datasets/master/car_fuel_efficiency.csv\n",
      "Resolving raw.githubusercontent.com (raw.githubusercontent.com)... 185.199.110.133, 185.199.111.133, 185.199.108.133, ...\n",
      "Connecting to raw.githubusercontent.com (raw.githubusercontent.com)|185.199.110.133|:443... connected.\n",
      "HTTP request sent, awaiting response... 200 OK\n",
      "Length: 874188 (854K) [text/plain]\n",
      "Saving to: ‘car_fuel_efficiency.csv.4’\n",
      "\n",
      "car_fuel_efficiency 100%[===================>] 853.70K  --.-KB/s    in 0.02s   \n",
      "\n",
      "2025-10-08 22:44:33 (44.0 MB/s) - ‘car_fuel_efficiency.csv.4’ saved [874188/874188]\n",
      "\n"
     ]
    }
   ],
   "source": [
    "!wget https://raw.githubusercontent.com/alexeygrigorev/datasets/master/car_fuel_efficiency.csv"
   ]
  },
  {
   "cell_type": "code",
   "execution_count": 5,
   "id": "ddd38878-ab8a-44fb-90fa-c3ed3c90b499",
   "metadata": {},
   "outputs": [],
   "source": [
    "raw_df = pd.read_csv('car_fuel_efficiency.csv')"
   ]
  },
  {
   "cell_type": "markdown",
   "id": "b1ad17bc-d09e-487f-9a80-aa41c8efc4a9",
   "metadata": {},
   "source": [
    "## EDA"
   ]
  },
  {
   "cell_type": "code",
   "execution_count": 6,
   "id": "f69f773c-126f-4ac6-aead-0084ea09a9f8",
   "metadata": {},
   "outputs": [],
   "source": [
    "df = raw_df[\n",
    "    ['engine_displacement', 'horsepower', 'vehicle_weight', \n",
    "     'model_year', 'fuel_efficiency_mpg']\n",
    "]"
   ]
  },
  {
   "cell_type": "code",
   "execution_count": 7,
   "id": "0bd6e67a-e824-4dfe-8c5e-d35f8d793661",
   "metadata": {},
   "outputs": [
    {
     "data": {
      "text/plain": [
       "<Axes: >"
      ]
     },
     "execution_count": 7,
     "metadata": {},
     "output_type": "execute_result"
    },
    {
     "data": {
      "image/png": "[encoded data removed]",
      "text/plain": [
       "<Figure size 640x480 with 1 Axes>"
      ]
     },
     "metadata": {},
     "output_type": "display_data"
    }
   ],
   "source": [
    "df.fuel_efficiency_mpg.hist(bins=50)"
   ]
  },
  {
   "cell_type": "markdown",
   "id": "82019601-8c6f-40cf-8805-e492fc4bb07d",
   "metadata": {},
   "source": [
    "## Question 1"
   ]
  },
  {
   "cell_type": "code",
   "execution_count": 8,
   "id": "cbed37c6-8fb9-4d8e-a268-597122b59987",
   "metadata": {},
   "outputs": [
    {
     "name": "stdout",
     "output_type": "stream",
     "text": [
      "Answer to Q1 is: horsepower\n"
     ]
    }
   ],
   "source": [
    "missing_col_name = df.columns[df.isnull().sum() > 0][0]\n",
    "print(f\"Answer to Q1 is: {missing_col_name}\")"
   ]
  },
  {
   "cell_type": "markdown",
   "id": "b1e2a389-c1e1-47e0-ad59-db704409a2e9",
   "metadata": {},
   "source": [
    "## Question 2"
   ]
  },
  {
   "cell_type": "code",
   "execution_count": 9,
   "id": "0e6b42b7-8cc9-4383-93a1-323387b5e8a0",
   "metadata": {},
   "outputs": [
    {
     "name": "stdout",
     "output_type": "stream",
     "text": [
      "Answer to Q2 is: 149\n"
     ]
    }
   ],
   "source": [
    "print(f\"Answer to Q2 is: {df.horsepower.median():.0f}\")"
   ]
  },
  {
   "cell_type": "markdown",
   "id": "d0170dff-102d-4bf3-8b60-7c0d3822c15e",
   "metadata": {},
   "source": [
    "## Prepare and split the dataset"
   ]
  },
  {
   "cell_type": "code",
   "execution_count": 10,
   "id": "78574bee-e979-4177-8a0e-e2f945ee95e3",
   "metadata": {},
   "outputs": [],
   "source": [
    "train_df, val_df, test_df = split_dataset(df, 0.2, 0.2)"
   ]
  },
  {
   "cell_type": "code",
   "execution_count": 11,
   "id": "37273115-ffc7-4a7d-8554-b544435c1fb9",
   "metadata": {},
   "outputs": [
    {
     "data": {
      "text/plain": [
       "True"
      ]
     },
     "execution_count": 11,
     "metadata": {},
     "output_type": "execute_result"
    }
   ],
   "source": [
    "train_df.shape[0] + val_df.shape[0] + test_df.shape[0] == df.shape[0]"
   ]
  },
  {
   "cell_type": "markdown",
   "id": "8161cf9b-d3f9-4b13-ad52-bb1aa2d8db8b",
   "metadata": {},
   "source": [
    "## Question 3"
   ]
  },
  {
   "cell_type": "code",
   "execution_count": 12,
   "id": "b1a0bf2f-d869-4ecf-b79e-737a8e651cb8",
   "metadata": {},
   "outputs": [],
   "source": [
    "y_train = train_df.fuel_efficiency_mpg.values\n",
    "X_train = train_df.drop('fuel_efficiency_mpg', axis=1)\n",
    "X_train_mean_imp = impute_by_mean(df=train_df, train_df=train_df, missing_col_name=missing_col_name).values\n",
    "X_train_zeros_imp = impute_by_zeros(train_df, missing_col_name=missing_col_name).values"
   ]
  },
  {
   "cell_type": "code",
   "execution_count": 13,
   "id": "46fb870a-5298-4879-a342-7e25e76e378b",
   "metadata": {},
   "outputs": [],
   "source": [
    "y_val = val_df.fuel_efficiency_mpg.values\n",
    "X_val = val_df.drop('fuel_efficiency_mpg', axis=1)\n",
    "X_val_mean_imp = impute_by_mean(df=val_df, train_df=train_df, missing_col_name=missing_col_name).values\n",
    "X_val_zeros_imp = impute_by_zeros(val_df, missing_col_name=missing_col_name).values"
   ]
  },
  {
   "cell_type": "code",
   "execution_count": 14,
   "id": "11f4e885-825b-4a34-9172-d15236369dd7",
   "metadata": {},
   "outputs": [
    {
     "data": {
      "text/plain": [
       "(1940, 5)"
      ]
     },
     "execution_count": 14,
     "metadata": {},
     "output_type": "execute_result"
    }
   ],
   "source": [
    "X_val_zeros_imp.shape"
   ]
  },
  {
   "cell_type": "code",
   "execution_count": 15,
   "id": "1a90cc12-b7d0-4b92-afbd-88bdd5be6a71",
   "metadata": {},
   "outputs": [],
   "source": [
    "w_mean_imp = train_linear_regression(X_train_mean_imp, y_train)\n",
    "w_zeros_imp = train_linear_regression(X_train_zeros_imp, y_train)"
   ]
  },
  {
   "cell_type": "code",
   "execution_count": 16,
   "id": "2edfc883-6460-42b9-a6fd-03e6f889e19d",
   "metadata": {},
   "outputs": [],
   "source": [
    "mean_imp_score = round(evaluate_model(w_mean_imp, X_val_mean_imp, y_val), 2)\n",
    "zeros_imp_score = round(evaluate_model(w_zeros_imp, X_val_zeros_imp, y_val), 2)"
   ]
  },
  {
   "cell_type": "code",
   "execution_count": 18,
   "id": "19e5ca2b-278a-44e0-a199-eae0302642e6",
   "metadata": {},
   "outputs": [
    {
     "name": "stdout",
     "output_type": "stream",
     "text": [
      "Answer to Q3 is: With mean\n"
     ]
    }
   ],
   "source": [
    "print(\"Answer to Q3 is: With mean\")\n"
   ]
  },
  {
   "cell_type": "markdown",
   "id": "17177b8f-2c5e-4d36-81ec-a12c0d588d18",
   "metadata": {},
   "source": [
    "## Question 4"
   ]
  },
  {
   "cell_type": "code",
   "execution_count": 17,
   "id": "bb9a0158-5760-45d0-9ff9-adfd75b17c36",
   "metadata": {},
   "outputs": [
    {
     "name": "stdout",
     "output_type": "stream",
     "text": [
      "Answer to Q4 is: 0\n"
     ]
    }
   ],
   "source": [
    "alphas = [0, 0.01, 0.1, 1, 5, 10, 100]\n",
    "scores = np.zeros(len(alphas))\n",
    "\n",
    "for i, alpha in enumerate(alphas):\n",
    "    w = train_linear_regression(X_train_zeros_imp, y_train, alpha=alpha)\n",
    "    score = round(evaluate_model(w, X_val_zeros_imp, y_val), 2)\n",
    "    scores[i] = score\n",
    "\n",
    "min_score = np.min(np.where(scores == scores.min()))\n",
    "print(f\"Answer to Q4 is: {min_score}\")"
   ]
  },
  {
   "cell_type": "markdown",
   "id": "cf996a74-047e-4fe5-951c-5b656787e13f",
   "metadata": {},
   "source": [
    "# Question 5"
   ]
  },
  {
   "cell_type": "code",
   "execution_count": 18,
   "id": "fb09404f-d723-40c5-bdaa-9669232e466c",
   "metadata": {},
   "outputs": [
    {
     "name": "stdout",
     "output_type": "stream",
     "text": [
      "Answer to Q5 is: 0.008\n"
     ]
    }
   ],
   "source": [
    "seeds = [0, 1, 2, 3, 4, 5, 6, 7, 8, 9]\n",
    "scores = np.zeros(len(seeds))\n",
    "\n",
    "for i, seed in enumerate(seeds):\n",
    "    np.random.seed(seed)\n",
    "    train_df, val_df, test_df = split_dataset(df, 0.2, 0.2)\n",
    "    \n",
    "    y_train = train_df.fuel_efficiency_mpg.values\n",
    "    X_train_zeros_imp = prepare_X(train_df, imputation_method='zeros', missing_col_name=missing_col_name)\n",
    "    w_zeros_imp = train_linear_regression(X_train_zeros_imp, y_train)\n",
    "    \n",
    "    X_val_zeros_imp = prepare_X(val_df, imputation_method='zeros', missing_col_name=missing_col_name)\n",
    "    y_val = val_df.fuel_efficiency_mpg.values\n",
    "    \n",
    "    score = evaluate_model(w_zeros_imp, X_val_zeros_imp, y_val)\n",
    "    scores[i] = score\n",
    "\n",
    "print(f\"Answer to Q5 is: {round(np.std(scores), 3)}\")"
   ]
  },
  {
   "cell_type": "markdown",
   "id": "8f3e2b5e-add3-4ae8-a560-f1e23f5cd28e",
   "metadata": {},
   "source": [
    "## Question 6"
   ]
  },
  {
   "cell_type": "code",
   "execution_count": 19,
   "id": "4eec3c4a-34b3-4a08-97f1-e336ef853da2",
   "metadata": {},
   "outputs": [
    {
     "name": "stdout",
     "output_type": "stream",
     "text": [
      "Answer to Q6 is: 0.513\n"
     ]
    }
   ],
   "source": [
    "np.random.seed(9)\n",
    "train_df, val_df, test_df = split_dataset(df, 0.2, 0.2)\n",
    "full_train_df = pd.concat([train_df, val_df], ignore_index=True)\n",
    "\n",
    "y_train = full_train_df.fuel_efficiency_mpg.values\n",
    "X_train_zeros_imp = prepare_X(full_train_df, imputation_method='zeros', missing_col_name=missing_col_name)\n",
    "w_zeros_imp = train_linear_regression(X_train_zeros_imp, y_train, alpha=0.001)\n",
    "\n",
    "X_test_zeros_imp = prepare_X(test_df, imputation_method='zeros', missing_col_name=missing_col_name)\n",
    "y_test = test_df.fuel_efficiency_mpg.values\n",
    "\n",
    "score = evaluate_model(w_zeros_imp, X_test_zeros_imp, y_test)\n",
    "print(f\"Answer to Q6 is: {round(score, 3)}\")"
   ]
  }
 ],
 "metadata": {
  "kernelspec": {
   "display_name": "ml-zoomcamp",
   "language": "python",
   "name": "ml-zoomcamp"
  },
  "language_info": {
   "codemirror_mode": {
    "name": "ipython",
    "version": 3
   },
   "file_extension": ".py",
   "mimetype": "text/x-python",
   "name": "python",
   "nbconvert_exporter": "python",
   "pygments_lexer": "ipython3",
   "version": "3.11.13"
  }
 },
 "nbformat": 4,
 "nbformat_minor": 5
}
